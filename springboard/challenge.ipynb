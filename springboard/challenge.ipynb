{
 "cells": [
  {
   "cell_type": "code",
   "execution_count": 1,
   "metadata": {},
   "outputs": [],
   "source": [
    "# Import the relevant python libraries for the analysis\n",
    "import pandas as pd\n",
    "from pandas import DataFrame\n",
    "import numpy as np\n",
    "import json"
   ]
  },
  {
   "cell_type": "code",
   "execution_count": 2,
   "metadata": {},
   "outputs": [
    {
     "data": {
      "text/plain": [
       "dict"
      ]
     },
     "execution_count": 2,
     "metadata": {},
     "output_type": "execute_result"
    }
   ],
   "source": [
    "# Load json dataset\n",
    "json_data = open('logins.json')\n",
    "data = json.load(json_data)\n",
    "\n",
    "# Define Data Type\n",
    "type(data)"
   ]
  },
  {
   "cell_type": "markdown",
   "metadata": {},
   "source": [
    "## Part 1 ‐ Exploratory Data Analysis\n",
    "logins.json file contains timestamps of user logins in (one) particular geographic location \n",
    "1. Aggregate these **login counts** based on **15 minute time intervals**\n",
    "2. Visualize and describe the resulting time series of login counts\n",
    "    - Goal: Characterize the patterns of the demand\n",
    "3. Report/illustrate important features of the demand, such as daily cycles \n",
    "4. Report any data quality issues"
   ]
  },
  {
   "cell_type": "code",
   "execution_count": 65,
   "metadata": {},
   "outputs": [
    {
     "data": {
      "text/html": [
       "<div>\n",
       "<style scoped>\n",
       "    .dataframe tbody tr th:only-of-type {\n",
       "        vertical-align: middle;\n",
       "    }\n",
       "\n",
       "    .dataframe tbody tr th {\n",
       "        vertical-align: top;\n",
       "    }\n",
       "\n",
       "    .dataframe thead th {\n",
       "        text-align: right;\n",
       "    }\n",
       "</style>\n",
       "<table border=\"1\" class=\"dataframe\">\n",
       "  <thead>\n",
       "    <tr style=\"text-align: right;\">\n",
       "      <th></th>\n",
       "      <th>login_time</th>\n",
       "    </tr>\n",
       "  </thead>\n",
       "  <tbody>\n",
       "    <tr>\n",
       "      <th>0</th>\n",
       "      <td>1970-01-01 20:13:18</td>\n",
       "    </tr>\n",
       "    <tr>\n",
       "      <th>1</th>\n",
       "      <td>1970-01-01 20:16:10</td>\n",
       "    </tr>\n",
       "    <tr>\n",
       "      <th>2</th>\n",
       "      <td>1970-01-01 20:16:37</td>\n",
       "    </tr>\n",
       "    <tr>\n",
       "      <th>3</th>\n",
       "      <td>1970-01-01 20:16:36</td>\n",
       "    </tr>\n",
       "    <tr>\n",
       "      <th>4</th>\n",
       "      <td>1970-01-01 20:26:21</td>\n",
       "    </tr>\n",
       "  </tbody>\n",
       "</table>\n",
       "</div>"
      ],
      "text/plain": [
       "            login_time\n",
       "0  1970-01-01 20:13:18\n",
       "1  1970-01-01 20:16:10\n",
       "2  1970-01-01 20:16:37\n",
       "3  1970-01-01 20:16:36\n",
       "4  1970-01-01 20:26:21"
      ]
     },
     "execution_count": 65,
     "metadata": {},
     "output_type": "execute_result"
    }
   ],
   "source": [
    "# Convert dict data to dataframe\n",
    "login_data_df = pd.DataFrame.from_dict(data)\n",
    "login_data_df.head()"
   ]
  },
  {
   "cell_type": "code",
   "execution_count": 66,
   "metadata": {},
   "outputs": [
    {
     "data": {
      "text/html": [
       "<div>\n",
       "<style scoped>\n",
       "    .dataframe tbody tr th:only-of-type {\n",
       "        vertical-align: middle;\n",
       "    }\n",
       "\n",
       "    .dataframe tbody tr th {\n",
       "        vertical-align: top;\n",
       "    }\n",
       "\n",
       "    .dataframe thead th {\n",
       "        text-align: right;\n",
       "    }\n",
       "</style>\n",
       "<table border=\"1\" class=\"dataframe\">\n",
       "  <thead>\n",
       "    <tr style=\"text-align: right;\">\n",
       "      <th></th>\n",
       "      <th>login_time</th>\n",
       "    </tr>\n",
       "  </thead>\n",
       "  <tbody>\n",
       "    <tr>\n",
       "      <th>93137</th>\n",
       "      <td>1970-04-13 18:50:19</td>\n",
       "    </tr>\n",
       "    <tr>\n",
       "      <th>93138</th>\n",
       "      <td>1970-04-13 18:43:56</td>\n",
       "    </tr>\n",
       "    <tr>\n",
       "      <th>93139</th>\n",
       "      <td>1970-04-13 18:54:02</td>\n",
       "    </tr>\n",
       "    <tr>\n",
       "      <th>93140</th>\n",
       "      <td>1970-04-13 18:57:38</td>\n",
       "    </tr>\n",
       "    <tr>\n",
       "      <th>93141</th>\n",
       "      <td>1970-04-13 18:54:23</td>\n",
       "    </tr>\n",
       "  </tbody>\n",
       "</table>\n",
       "</div>"
      ],
      "text/plain": [
       "                login_time\n",
       "93137  1970-04-13 18:50:19\n",
       "93138  1970-04-13 18:43:56\n",
       "93139  1970-04-13 18:54:02\n",
       "93140  1970-04-13 18:57:38\n",
       "93141  1970-04-13 18:54:23"
      ]
     },
     "execution_count": 66,
     "metadata": {},
     "output_type": "execute_result"
    }
   ],
   "source": [
    "login_data_df.tail()"
   ]
  },
  {
   "cell_type": "markdown",
   "metadata": {},
   "source": [
    "Observations: \n",
    "    1. All years are the same in dataset (1970)\n",
    "    2. Months range from 1 (January) to 4 (April)\n",
    "    3. Day stops on 4 (April) 13\n",
    "    5. Some entries only vary by second of login"
   ]
  },
  {
   "cell_type": "code",
   "execution_count": 67,
   "metadata": {},
   "outputs": [
    {
     "name": "stdout",
     "output_type": "stream",
     "text": [
      "<class 'pandas.core.frame.DataFrame'>\n",
      "RangeIndex: 93142 entries, 0 to 93141\n",
      "Data columns (total 1 columns):\n",
      "login_time    93142 non-null object\n",
      "dtypes: object(1)\n",
      "memory usage: 727.8+ KB\n"
     ]
    }
   ],
   "source": [
    "# Assess the dataframe\n",
    "login_data_df.info()"
   ]
  },
  {
   "cell_type": "code",
   "execution_count": 68,
   "metadata": {},
   "outputs": [
    {
     "data": {
      "text/plain": [
       "dtype('O')"
      ]
     },
     "execution_count": 68,
     "metadata": {},
     "output_type": "execute_result"
    }
   ],
   "source": [
    "# Define the type of objects within the login_time column\n",
    "login_data_df.login_time.dtype"
   ]
  },
  {
   "cell_type": "markdown",
   "metadata": {},
   "source": [
    "dtype('O') is short-hand for 'Python objects'. The entries in both columns need to be converted to Datetime objects in order to visualize and describe the resulting time series of login counts."
   ]
  },
  {
   "cell_type": "markdown",
   "metadata": {},
   "source": [
    "#### Convert columns to Datetime objects"
   ]
  },
  {
   "cell_type": "code",
   "execution_count": 69,
   "metadata": {},
   "outputs": [],
   "source": [
    "# Create a general function that:\n",
    "\n",
    "#converts a datapoint into a Datetime object\n",
    "def to_datetime(value):\n",
    "    return pd.to_datetime(value)\n",
    "\n",
    "#appends value to list\n",
    "def add_to_list(li, val):\n",
    "    return li.append(val)\n",
    "\n",
    "#converts a list to series\n",
    "def list_to_series(li):\n",
    "    return pd.Series(li)\n",
    "\n",
    "#adds new datetime objects to list\n",
    "def datetime_to_list(li, date):\n",
    "    return add_to_list(timestamp, to_datetime(date))"
   ]
  },
  {
   "cell_type": "code",
   "execution_count": 70,
   "metadata": {},
   "outputs": [
    {
     "data": {
      "text/plain": [
       "Timestamp('1970-01-01 20:13:18')"
      ]
     },
     "execution_count": 70,
     "metadata": {},
     "output_type": "execute_result"
    }
   ],
   "source": [
    "# Test output (1)\n",
    "value = login_data_df.login_time[0]\n",
    "to_datetime(value)"
   ]
  },
  {
   "cell_type": "code",
   "execution_count": 71,
   "metadata": {},
   "outputs": [
    {
     "data": {
      "text/plain": [
       "0    1\n",
       "1    2\n",
       "2    3\n",
       "3    4\n",
       "4    5\n",
       "5    6\n",
       "dtype: int64"
      ]
     },
     "execution_count": 71,
     "metadata": {},
     "output_type": "execute_result"
    }
   ],
   "source": [
    "# Test output\n",
    "val = 6\n",
    "li = [1,2,3,4,5]\n",
    "# (2)\n",
    "add_to_list(li, val)\n",
    "# (3)\n",
    "list_to_series(li)"
   ]
  },
  {
   "cell_type": "code",
   "execution_count": 72,
   "metadata": {},
   "outputs": [],
   "source": [
    "# define empty list\n",
    "timestamp = []\n",
    "\n",
    "# add datetime objects to list\n",
    "for date in login_data_df.login_time:\n",
    "    datetime_to_list(timestamp, date)"
   ]
  },
  {
   "cell_type": "code",
   "execution_count": 74,
   "metadata": {},
   "outputs": [],
   "source": [
    "# Test output\n",
    "#timestamp"
   ]
  },
  {
   "cell_type": "code",
   "execution_count": 75,
   "metadata": {},
   "outputs": [
    {
     "data": {
      "text/html": [
       "<div>\n",
       "<style scoped>\n",
       "    .dataframe tbody tr th:only-of-type {\n",
       "        vertical-align: middle;\n",
       "    }\n",
       "\n",
       "    .dataframe tbody tr th {\n",
       "        vertical-align: top;\n",
       "    }\n",
       "\n",
       "    .dataframe thead th {\n",
       "        text-align: right;\n",
       "    }\n",
       "</style>\n",
       "<table border=\"1\" class=\"dataframe\">\n",
       "  <thead>\n",
       "    <tr style=\"text-align: right;\">\n",
       "      <th></th>\n",
       "      <th>timestamp</th>\n",
       "    </tr>\n",
       "  </thead>\n",
       "  <tbody>\n",
       "    <tr>\n",
       "      <th>0</th>\n",
       "      <td>1970-01-01 20:13:18</td>\n",
       "    </tr>\n",
       "    <tr>\n",
       "      <th>1</th>\n",
       "      <td>1970-01-01 20:16:10</td>\n",
       "    </tr>\n",
       "    <tr>\n",
       "      <th>2</th>\n",
       "      <td>1970-01-01 20:16:37</td>\n",
       "    </tr>\n",
       "    <tr>\n",
       "      <th>3</th>\n",
       "      <td>1970-01-01 20:16:36</td>\n",
       "    </tr>\n",
       "    <tr>\n",
       "      <th>4</th>\n",
       "      <td>1970-01-01 20:26:21</td>\n",
       "    </tr>\n",
       "  </tbody>\n",
       "</table>\n",
       "</div>"
      ],
      "text/plain": [
       "            timestamp\n",
       "0 1970-01-01 20:13:18\n",
       "1 1970-01-01 20:16:10\n",
       "2 1970-01-01 20:16:37\n",
       "3 1970-01-01 20:16:36\n",
       "4 1970-01-01 20:26:21"
      ]
     },
     "execution_count": 75,
     "metadata": {},
     "output_type": "execute_result"
    }
   ],
   "source": [
    "# Add datetime values to data_df\n",
    "login_data_df['timestamp'] = list_to_series(timestamp)\n",
    "\n",
    "# Drop login_time column\n",
    "login_data_df = login_data_df.drop(columns='login_time')\n",
    "login_data_df.head()"
   ]
  },
  {
   "cell_type": "markdown",
   "metadata": {},
   "source": [
    "### Aggregate these login counts based on 15 minute time intervals\n",
    "Step 1: Make timestamp column the login_data_df index"
   ]
  },
  {
   "cell_type": "code",
   "execution_count": 76,
   "metadata": {},
   "outputs": [
    {
     "data": {
      "text/html": [
       "<div>\n",
       "<style scoped>\n",
       "    .dataframe tbody tr th:only-of-type {\n",
       "        vertical-align: middle;\n",
       "    }\n",
       "\n",
       "    .dataframe tbody tr th {\n",
       "        vertical-align: top;\n",
       "    }\n",
       "\n",
       "    .dataframe thead th {\n",
       "        text-align: right;\n",
       "    }\n",
       "</style>\n",
       "<table border=\"1\" class=\"dataframe\">\n",
       "  <thead>\n",
       "    <tr style=\"text-align: right;\">\n",
       "      <th></th>\n",
       "    </tr>\n",
       "    <tr>\n",
       "      <th>timestamp</th>\n",
       "    </tr>\n",
       "  </thead>\n",
       "  <tbody>\n",
       "    <tr>\n",
       "      <th>1970-01-01 20:13:18</th>\n",
       "    </tr>\n",
       "    <tr>\n",
       "      <th>1970-01-01 20:16:10</th>\n",
       "    </tr>\n",
       "    <tr>\n",
       "      <th>1970-01-01 20:16:37</th>\n",
       "    </tr>\n",
       "    <tr>\n",
       "      <th>1970-01-01 20:16:36</th>\n",
       "    </tr>\n",
       "    <tr>\n",
       "      <th>1970-01-01 20:26:21</th>\n",
       "    </tr>\n",
       "  </tbody>\n",
       "</table>\n",
       "</div>"
      ],
      "text/plain": [
       "Empty DataFrame\n",
       "Columns: []\n",
       "Index: [1970-01-01 20:13:18, 1970-01-01 20:16:10, 1970-01-01 20:16:37, 1970-01-01 20:16:36, 1970-01-01 20:26:21]"
      ]
     },
     "execution_count": 76,
     "metadata": {},
     "output_type": "execute_result"
    }
   ],
   "source": [
    "login_data_df.set_index('timestamp', inplace=True)\n",
    "login_data_df.head()"
   ]
  },
  {
   "cell_type": "markdown",
   "metadata": {},
   "source": [
    "Step 2: Add a numeric column to track counts (each entry counts as 1)"
   ]
  },
  {
   "cell_type": "code",
   "execution_count": 77,
   "metadata": {},
   "outputs": [
    {
     "data": {
      "text/html": [
       "<div>\n",
       "<style scoped>\n",
       "    .dataframe tbody tr th:only-of-type {\n",
       "        vertical-align: middle;\n",
       "    }\n",
       "\n",
       "    .dataframe tbody tr th {\n",
       "        vertical-align: top;\n",
       "    }\n",
       "\n",
       "    .dataframe thead th {\n",
       "        text-align: right;\n",
       "    }\n",
       "</style>\n",
       "<table border=\"1\" class=\"dataframe\">\n",
       "  <thead>\n",
       "    <tr style=\"text-align: right;\">\n",
       "      <th></th>\n",
       "      <th>counts</th>\n",
       "    </tr>\n",
       "    <tr>\n",
       "      <th>timestamp</th>\n",
       "      <th></th>\n",
       "    </tr>\n",
       "  </thead>\n",
       "  <tbody>\n",
       "    <tr>\n",
       "      <th>1970-01-01 20:13:18</th>\n",
       "      <td>1</td>\n",
       "    </tr>\n",
       "    <tr>\n",
       "      <th>1970-01-01 20:16:10</th>\n",
       "      <td>1</td>\n",
       "    </tr>\n",
       "    <tr>\n",
       "      <th>1970-01-01 20:16:37</th>\n",
       "      <td>1</td>\n",
       "    </tr>\n",
       "    <tr>\n",
       "      <th>1970-01-01 20:16:36</th>\n",
       "      <td>1</td>\n",
       "    </tr>\n",
       "    <tr>\n",
       "      <th>1970-01-01 20:26:21</th>\n",
       "      <td>1</td>\n",
       "    </tr>\n",
       "  </tbody>\n",
       "</table>\n",
       "</div>"
      ],
      "text/plain": [
       "                     counts\n",
       "timestamp                  \n",
       "1970-01-01 20:13:18       1\n",
       "1970-01-01 20:16:10       1\n",
       "1970-01-01 20:16:37       1\n",
       "1970-01-01 20:16:36       1\n",
       "1970-01-01 20:26:21       1"
      ]
     },
     "execution_count": 77,
     "metadata": {},
     "output_type": "execute_result"
    }
   ],
   "source": [
    "login_data_df['counts'] = 1\n",
    "login_data_df.head()"
   ]
  },
  {
   "cell_type": "markdown",
   "metadata": {},
   "source": [
    "Step 3: Group entries by 15 minute intervals"
   ]
  },
  {
   "cell_type": "code",
   "execution_count": 78,
   "metadata": {},
   "outputs": [
    {
     "data": {
      "text/html": [
       "<div>\n",
       "<style scoped>\n",
       "    .dataframe tbody tr th:only-of-type {\n",
       "        vertical-align: middle;\n",
       "    }\n",
       "\n",
       "    .dataframe tbody tr th {\n",
       "        vertical-align: top;\n",
       "    }\n",
       "\n",
       "    .dataframe thead th {\n",
       "        text-align: right;\n",
       "    }\n",
       "</style>\n",
       "<table border=\"1\" class=\"dataframe\">\n",
       "  <thead>\n",
       "    <tr style=\"text-align: right;\">\n",
       "      <th></th>\n",
       "      <th>counts</th>\n",
       "    </tr>\n",
       "    <tr>\n",
       "      <th>timestamp</th>\n",
       "      <th></th>\n",
       "    </tr>\n",
       "  </thead>\n",
       "  <tbody>\n",
       "    <tr>\n",
       "      <th>1970-01-01 20:00:00</th>\n",
       "      <td>2</td>\n",
       "    </tr>\n",
       "    <tr>\n",
       "      <th>1970-01-01 20:15:00</th>\n",
       "      <td>6</td>\n",
       "    </tr>\n",
       "    <tr>\n",
       "      <th>1970-01-01 20:30:00</th>\n",
       "      <td>9</td>\n",
       "    </tr>\n",
       "    <tr>\n",
       "      <th>1970-01-01 20:45:00</th>\n",
       "      <td>7</td>\n",
       "    </tr>\n",
       "    <tr>\n",
       "      <th>1970-01-01 21:00:00</th>\n",
       "      <td>1</td>\n",
       "    </tr>\n",
       "  </tbody>\n",
       "</table>\n",
       "</div>"
      ],
      "text/plain": [
       "                     counts\n",
       "timestamp                  \n",
       "1970-01-01 20:00:00       2\n",
       "1970-01-01 20:15:00       6\n",
       "1970-01-01 20:30:00       9\n",
       "1970-01-01 20:45:00       7\n",
       "1970-01-01 21:00:00       1"
      ]
     },
     "execution_count": 78,
     "metadata": {},
     "output_type": "execute_result"
    }
   ],
   "source": [
    "login_data_df = login_data_df.resample(rule='15T').sum()\n",
    "login_data_df.head()"
   ]
  },
  {
   "cell_type": "markdown",
   "metadata": {},
   "source": [
    "Step 4: Convert timestamp index back to column"
   ]
  },
  {
   "cell_type": "code",
   "execution_count": 79,
   "metadata": {},
   "outputs": [
    {
     "data": {
      "text/html": [
       "<div>\n",
       "<style scoped>\n",
       "    .dataframe tbody tr th:only-of-type {\n",
       "        vertical-align: middle;\n",
       "    }\n",
       "\n",
       "    .dataframe tbody tr th {\n",
       "        vertical-align: top;\n",
       "    }\n",
       "\n",
       "    .dataframe thead th {\n",
       "        text-align: right;\n",
       "    }\n",
       "</style>\n",
       "<table border=\"1\" class=\"dataframe\">\n",
       "  <thead>\n",
       "    <tr style=\"text-align: right;\">\n",
       "      <th></th>\n",
       "      <th>timestamp</th>\n",
       "      <th>counts</th>\n",
       "    </tr>\n",
       "  </thead>\n",
       "  <tbody>\n",
       "    <tr>\n",
       "      <th>0</th>\n",
       "      <td>1970-01-01 20:00:00</td>\n",
       "      <td>2</td>\n",
       "    </tr>\n",
       "    <tr>\n",
       "      <th>1</th>\n",
       "      <td>1970-01-01 20:15:00</td>\n",
       "      <td>6</td>\n",
       "    </tr>\n",
       "    <tr>\n",
       "      <th>2</th>\n",
       "      <td>1970-01-01 20:30:00</td>\n",
       "      <td>9</td>\n",
       "    </tr>\n",
       "    <tr>\n",
       "      <th>3</th>\n",
       "      <td>1970-01-01 20:45:00</td>\n",
       "      <td>7</td>\n",
       "    </tr>\n",
       "    <tr>\n",
       "      <th>4</th>\n",
       "      <td>1970-01-01 21:00:00</td>\n",
       "      <td>1</td>\n",
       "    </tr>\n",
       "  </tbody>\n",
       "</table>\n",
       "</div>"
      ],
      "text/plain": [
       "            timestamp  counts\n",
       "0 1970-01-01 20:00:00       2\n",
       "1 1970-01-01 20:15:00       6\n",
       "2 1970-01-01 20:30:00       9\n",
       "3 1970-01-01 20:45:00       7\n",
       "4 1970-01-01 21:00:00       1"
      ]
     },
     "execution_count": 79,
     "metadata": {},
     "output_type": "execute_result"
    }
   ],
   "source": [
    "login_data_df = login_data_df.reset_index()\n",
    "login_data_df.head()"
   ]
  },
  {
   "cell_type": "markdown",
   "metadata": {},
   "source": [
    "### Visualize and describe the resulting time series of login counts\n",
    "Goal: Characterize the patterns of the demand"
   ]
  },
  {
   "cell_type": "code",
   "execution_count": 138,
   "metadata": {},
   "outputs": [],
   "source": [
    "# Import necessary modules\n",
    "%matplotlib inline\n",
    "import matplotlib.pyplot as plt\n",
    "from matplotlib.pyplot import figure\n",
    "import seaborn as sns; sns.set(style=\"darkgrid\")"
   ]
  },
  {
   "cell_type": "code",
   "execution_count": 120,
   "metadata": {},
   "outputs": [
    {
     "data": {
      "image/png": "[encoded data removed]",
      "text/plain": [
       "<Figure size 432x288 with 1 Axes>"
      ]
     },
     "metadata": {},
     "output_type": "display_data"
    }
   ],
   "source": [
    "# Basic Visualization of Data\n",
    "ax = login_data_df.plot(x='timestamp', y='counts', color='g', kind='hist',\n",
    "                       title=\"Number of 15-min Interval Timestamps Between Jan and April of 1970 within one Geographic Location\")\n",
    "ax.set_xlabel(\"Recorded Timestamps\")\n",
    "ax.set_ylabel(\"Frequency of User Logins\")\n",
    "plt.show()"
   ]
  },
  {
   "cell_type": "markdown",
   "metadata": {},
   "source": [
    "**Observations:**\n",
    "    Based on the graph above, it appears that the 'lower' the timestamp, the higher the frequency of user logins. However, what does this truly mean? What can be said about the month, day, and even hour, login-trends of users within this region?"
   ]
  },
  {
   "cell_type": "markdown",
   "metadata": {},
   "source": [
    "### Report/illustrate important features of the demand, such as daily cycles"
   ]
  },
  {
   "cell_type": "code",
   "execution_count": 121,
   "metadata": {},
   "outputs": [],
   "source": [
    "# define empty list\n",
    "time_hour = []\n",
    "time_day = []\n",
    "time_month = []\n",
    "\n",
    "# add datetime objects to list\n",
    "for date in login_data_df.timestamp:\n",
    "    \n",
    "    #define vars\n",
    "    hour = date.hour\n",
    "    day = date.day\n",
    "    month = date.month\n",
    "    \n",
    "    #append to lists\n",
    "    add_to_list(time_hour, hour)\n",
    "    add_to_list(time_day, day)\n",
    "    add_to_list(time_month, month)"
   ]
  },
  {
   "cell_type": "code",
   "execution_count": 122,
   "metadata": {},
   "outputs": [
    {
     "data": {
      "text/html": [
       "<div>\n",
       "<style scoped>\n",
       "    .dataframe tbody tr th:only-of-type {\n",
       "        vertical-align: middle;\n",
       "    }\n",
       "\n",
       "    .dataframe tbody tr th {\n",
       "        vertical-align: top;\n",
       "    }\n",
       "\n",
       "    .dataframe thead th {\n",
       "        text-align: right;\n",
       "    }\n",
       "</style>\n",
       "<table border=\"1\" class=\"dataframe\">\n",
       "  <thead>\n",
       "    <tr style=\"text-align: right;\">\n",
       "      <th></th>\n",
       "      <th>timestamp</th>\n",
       "      <th>counts</th>\n",
       "      <th>month</th>\n",
       "      <th>day</th>\n",
       "      <th>hour</th>\n",
       "    </tr>\n",
       "  </thead>\n",
       "  <tbody>\n",
       "    <tr>\n",
       "      <th>9783</th>\n",
       "      <td>1970-04-13 17:45:00</td>\n",
       "      <td>5</td>\n",
       "      <td>4</td>\n",
       "      <td>13</td>\n",
       "      <td>17</td>\n",
       "    </tr>\n",
       "    <tr>\n",
       "      <th>9784</th>\n",
       "      <td>1970-04-13 18:00:00</td>\n",
       "      <td>5</td>\n",
       "      <td>4</td>\n",
       "      <td>13</td>\n",
       "      <td>18</td>\n",
       "    </tr>\n",
       "    <tr>\n",
       "      <th>9785</th>\n",
       "      <td>1970-04-13 18:15:00</td>\n",
       "      <td>2</td>\n",
       "      <td>4</td>\n",
       "      <td>13</td>\n",
       "      <td>18</td>\n",
       "    </tr>\n",
       "    <tr>\n",
       "      <th>9786</th>\n",
       "      <td>1970-04-13 18:30:00</td>\n",
       "      <td>7</td>\n",
       "      <td>4</td>\n",
       "      <td>13</td>\n",
       "      <td>18</td>\n",
       "    </tr>\n",
       "    <tr>\n",
       "      <th>9787</th>\n",
       "      <td>1970-04-13 18:45:00</td>\n",
       "      <td>6</td>\n",
       "      <td>4</td>\n",
       "      <td>13</td>\n",
       "      <td>18</td>\n",
       "    </tr>\n",
       "  </tbody>\n",
       "</table>\n",
       "</div>"
      ],
      "text/plain": [
       "               timestamp  counts  month  day  hour\n",
       "9783 1970-04-13 17:45:00       5      4   13    17\n",
       "9784 1970-04-13 18:00:00       5      4   13    18\n",
       "9785 1970-04-13 18:15:00       2      4   13    18\n",
       "9786 1970-04-13 18:30:00       7      4   13    18\n",
       "9787 1970-04-13 18:45:00       6      4   13    18"
      ]
     },
     "execution_count": 122,
     "metadata": {},
     "output_type": "execute_result"
    }
   ],
   "source": [
    "# Add datetime values to data_df\n",
    "login_data_df['month'] = list_to_series(time_month)\n",
    "login_data_df['day'] = list_to_series(time_day)\n",
    "login_data_df['hour'] = list_to_series(time_hour)\n",
    "login_data_df.tail()"
   ]
  },
  {
   "cell_type": "code",
   "execution_count": 156,
   "metadata": {},
   "outputs": [
    {
     "data": {
      "image/png": "[encoded data removed]",
      "text/plain": [
       "<Figure size 432x288 with 3 Axes>"
      ]
     },
     "metadata": {},
     "output_type": "display_data"
    },
    {
     "data": {
      "text/plain": [
       "<Figure size 400x1200 with 0 Axes>"
      ]
     },
     "metadata": {},
     "output_type": "display_data"
    }
   ],
   "source": [
    "# Visualization of Month, Date, and Hour Data\n",
    "fig, (ax1, ax2, ax3) = plt.subplots(1,3)\n",
    "\n",
    "# Set common labels\n",
    "fig.suptitle('Trend of User Login in Geographic Region Between Jan and April of 1970')\n",
    "ax.set_xlabel('common xlabel')\n",
    "\n",
    "# Define Month, Day, and Hour subplots\n",
    "login_data_df.plot(x='month', y='counts', color='g', kind='scatter', ax=ax1, alpha=.2)\n",
    "login_data_df.plot(x='day', y='counts', color='b', kind='scatter', ax=ax2, alpha=.2)\n",
    "login_data_df.plot(x='hour', y='counts', color='b', kind='scatter', ax=ax3, alpha=.2)\n",
    "\n",
    "# Set axis labels\n",
    "ax1.set_ylabel('Number User Logins')\n",
    "ax2.set_ylabel('Number User Logins')\n",
    "ax3.set_ylabel('Number User Logins')\n",
    "\n",
    "# Adjust layout of subplots\n",
    "plt.subplots_adjust(wspace=0.8)\n",
    "figure(num=None, figsize=(2, 6), dpi=200)\n",
    "\n",
    "plt.show()"
   ]
  },
  {
   "cell_type": "markdown",
   "metadata": {},
   "source": [
    "**Observations:**\n",
    "    These three graphs show more information about customer trends than the one previously. Now, it is clear that the number of customer logins *increased* as the months progressed from January to April. In addition, there appear to be marginally more user logins in the beginning of the month than at the end, but there is a consistent stream of (+/-)20 logins throughout the month. This most likely signifies daily users while the varying ranges siginify non-daily users such as weekly or monthly users. Finally, user logins appear to be greatest in the early hours of the day , which appears to be the tail end result of an increase of use from the afternoon to evening. "
   ]
  },
  {
   "cell_type": "markdown",
   "metadata": {},
   "source": [
    "-----------------------------------------------"
   ]
  },
  {
   "cell_type": "markdown",
   "metadata": {},
   "source": [
    "## Part 2 ‐ Experiment and metrics design"
   ]
  },
  {
   "cell_type": "markdown",
   "metadata": {},
   "source": [
    "**Background**:The neighboring cities of Gotham and Metropolis have complementary circadian rhythms: \n",
    "    1. Weekdays: \n",
    "        - Ultimate Gotham is most active at night\n",
    "        - Ultimate Metropolis is most active during the day \n",
    "    2. Weekends: \n",
    "        - Reasonable activity in both cities.\n",
    "\n",
    "**Problem:** A toll bridge, with a two-way toll, between the two cities deter driver partners from crossing city lines. \n",
    "\n",
    "**Proposed Solution:** The Ultimate managers of city operations for the two cities have proposed an experiment to encourage driver partners to be available in both cities, by reimbursing all toll costs."
   ]
  },
  {
   "cell_type": "markdown",
   "metadata": {},
   "source": [
    "### 1. How you will implement the experiment"
   ]
  },
  {
   "cell_type": "code",
   "execution_count": null,
   "metadata": {},
   "outputs": [],
   "source": []
  },
  {
   "cell_type": "markdown",
   "metadata": {},
   "source": [
    "### 2. What statistical test(s) you will conduct to verify the significance of the observation"
   ]
  },
  {
   "cell_type": "code",
   "execution_count": null,
   "metadata": {},
   "outputs": [],
   "source": []
  },
  {
   "cell_type": "markdown",
   "metadata": {},
   "source": [
    "### 3. How you would interpret the results and provide recommendations to the city operations team along with any caveats."
   ]
  },
  {
   "cell_type": "code",
   "execution_count": null,
   "metadata": {},
   "outputs": [],
   "source": []
  },
  {
   "cell_type": "markdown",
   "metadata": {},
   "source": [
    "-----------------------------------------------"
   ]
  },
  {
   "cell_type": "markdown",
   "metadata": {},
   "source": [
    "## Part 3 ‐ Predictive Modeling"
   ]
  },
  {
   "cell_type": "markdown",
   "metadata": {},
   "source": [
    "**Background**: Ultimate is interested in predicting rider retention. To help explore this question, a sample dataset of a cohort of users who signed up for an Ultimate account in January 2014 has been provided (ultimate_data_challenge.json). The data was pulled several months later; consider a user retained if they were “active” (i.e. took a trip) in the preceding 30 days.\n",
    "\n",
    "**Goal**: Use this data set to help understand what factors are the best predictors for retention, and offer suggestions to operationalize those insights to help Ultimate. *NOTE: Delete the dataset when you have finished with the challenge.*"
   ]
  },
  {
   "cell_type": "markdown",
   "metadata": {},
   "source": [
    "#### 1. Perform any cleaning, exploratory analysis, and/or visualizations to use the provided data for this analysis (a few sentences/plots describing your approach will suffice). What fraction of the observed users were retained?"
   ]
  },
  {
   "cell_type": "code",
   "execution_count": 3,
   "metadata": {},
   "outputs": [
    {
     "data": {
      "text/plain": [
       "list"
      ]
     },
     "execution_count": 3,
     "metadata": {},
     "output_type": "execute_result"
    }
   ],
   "source": [
    "# Load challenge json dataset\n",
    "challenge_json_data = open('ultimate_data_challenge.json')\n",
    "challenge_data = json.load(challenge_json_data)\n",
    "# Define Data Type\n",
    "type(challenge_data)"
   ]
  },
  {
   "cell_type": "code",
   "execution_count": 4,
   "metadata": {},
   "outputs": [
    {
     "data": {
      "text/plain": [
       "({'city': \"King's Landing\",\n",
       "  'trips_in_first_30_days': 4,\n",
       "  'signup_date': '2014-01-25',\n",
       "  'avg_rating_of_driver': 4.7,\n",
       "  'avg_surge': 1.1,\n",
       "  'last_trip_date': '2014-06-17',\n",
       "  'phone': 'iPhone',\n",
       "  'surge_pct': 15.4,\n",
       "  'ultimate_black_user': True,\n",
       "  'weekday_pct': 46.2,\n",
       "  'avg_dist': 3.67,\n",
       "  'avg_rating_by_driver': 5.0},\n",
       " {'city': 'Astapor',\n",
       "  'trips_in_first_30_days': 0,\n",
       "  'signup_date': '2014-01-29',\n",
       "  'avg_rating_of_driver': 5.0,\n",
       "  'avg_surge': 1.0,\n",
       "  'last_trip_date': '2014-05-05',\n",
       "  'phone': 'Android',\n",
       "  'surge_pct': 0.0,\n",
       "  'ultimate_black_user': False,\n",
       "  'weekday_pct': 50.0,\n",
       "  'avg_dist': 8.26,\n",
       "  'avg_rating_by_driver': 5.0})"
      ]
     },
     "execution_count": 4,
     "metadata": {},
     "output_type": "execute_result"
    }
   ],
   "source": [
    "challenge_data[0], challenge_data[1]"
   ]
  },
  {
   "cell_type": "code",
   "execution_count": null,
   "metadata": {},
   "outputs": [],
   "source": []
  },
  {
   "cell_type": "code",
   "execution_count": null,
   "metadata": {},
   "outputs": [],
   "source": []
  },
  {
   "cell_type": "markdown",
   "metadata": {},
   "source": [
    "#### 2. Build a predictive model to help Ultimate determine whether or not a user will be active in their 6th month on the system. Discuss why you chose your approach, what alternatives you considered, and any concerns you have. How valid is your model? Include any key indicators of model performance."
   ]
  },
  {
   "cell_type": "code",
   "execution_count": null,
   "metadata": {},
   "outputs": [],
   "source": []
  },
  {
   "cell_type": "code",
   "execution_count": null,
   "metadata": {},
   "outputs": [],
   "source": []
  },
  {
   "cell_type": "code",
   "execution_count": null,
   "metadata": {},
   "outputs": [],
   "source": []
  },
  {
   "cell_type": "code",
   "execution_count": null,
   "metadata": {},
   "outputs": [],
   "source": []
  },
  {
   "cell_type": "markdown",
   "metadata": {},
   "source": [
    "#### 3. Briefly discuss how Ultimate might leverage the insights gained from the model to improve its long­term rider retention (again, a few sentences will suffice)."
   ]
  },
  {
   "cell_type": "code",
   "execution_count": null,
   "metadata": {},
   "outputs": [],
   "source": []
  }
 ],
 "metadata": {
  "kernelspec": {
   "display_name": "Python 3",
   "language": "python",
   "name": "python3"
  },
  "language_info": {
   "codemirror_mode": {
    "name": "ipython",
    "version": 3
   },
   "file_extension": ".py",
   "mimetype": "text/x-python",
   "name": "python",
   "nbconvert_exporter": "python",
   "pygments_lexer": "ipython3",
   "version": "3.7.3"
  }
 },
 "nbformat": 4,
 "nbformat_minor": 2
}
