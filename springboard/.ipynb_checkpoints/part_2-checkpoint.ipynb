{
 "cells": [
  {
   "cell_type": "markdown",
   "metadata": {},
   "source": [
    "## Part 2 ‐ Experiment and metrics design"
   ]
  },
  {
   "cell_type": "markdown",
   "metadata": {},
   "source": [
    "**Background**:The neighboring cities of Gotham and Metropolis have complementary circadian rhythms: \n",
    "    1. Weekdays: \n",
    "        - Ultimate Gotham is most active at night\n",
    "        - Ultimate Metropolis is most active during the day \n",
    "    2. Weekends: \n",
    "        - Reasonable activity in both cities.\n",
    "\n",
    "**Problem:** A toll bridge, with a two-way toll, between the two cities deter driver partners from crossing city lines. \n",
    "\n",
    "**Proposed Solution:** The Ultimate managers of city operations for the two cities have proposed an experiment to encourage driver partners to be available in both cities, by reimbursing all toll costs."
   ]
  },
  {
   "cell_type": "markdown",
   "metadata": {},
   "source": [
    "**Preliminary Thoughts**\n",
    "\n",
    "***Question 1***: Why does Ultimate want to increase the presence of drivers in both cities?\n",
    "\n",
    "*Potential Answer*: To increase profits.\n",
    "\n",
    "***Question 2***: Why would Ultimate increase its profits by increasing the traffic between Gothom and Metropolis?\n",
    "\n",
    "*Potential Answer*: More available driver per cities means more potential rides due to lower wait times.\n",
    "\n",
    "***Question 3***: What is the best way to measure the potential profit of linking the two cities?\n",
    "\n",
    "*Potential Answer*: Measure net profit after compensating for toll fee."
   ]
  },
  {
   "cell_type": "markdown",
   "metadata": {},
   "source": [
    "### 1. How you will implement the experiment\n",
    "- One month prior to the start of the experiment, driver partners will receive weekly emails that all toll fees between Gotham and Metropolis will be compensated by Ultimate for the next three following months.\n",
    "- One day prior to start, an all-day banner on the Ultimate interface will be present to let drivers know that all toll fees between Gotham and Metropolis will be compensated for the next three month. \n",
    "- On the first day of the next month, a record will begin that tracks all rides instances where Ultimate compensates  toll fees. "
   ]
  },
  {
   "cell_type": "markdown",
   "metadata": {},
   "source": [
    "**Target Metric: Net Profit after Compensation for Toll Fees**"
   ]
  },
  {
   "cell_type": "markdown",
   "metadata": {},
   "source": [
    "### 2. What statistical test(s) you will conduct to verify the significance of the observation\n",
    "- A **two-paired t test** computes if the difference between groups are significant. The net profit for each month of the experiment wil be summed and compared via t-test (with 95% confidence) to the sum of profit from the three months prior to the experiment. "
   ]
  },
  {
   "cell_type": "markdown",
   "metadata": {},
   "source": [
    "### 3. How you would interpret the results and provide recommendations to the city operations team along with any caveats.\n",
    "- If profits decreased after the experiment, it would mean that reimbursement of toll fees may not have been the most effective way to encourage drivers to be active in both cities in order to increase profits. If profits stay the same, then the feature should be left intact due to the possible convenience to some drivers and potential increase in profits as time goes on. Finally, if profits increase, it could mean that more experiments relating reimbursements, such as gas or mileage, should be explored in order to further increase profits."
   ]
  }
 ],
 "metadata": {
  "kernelspec": {
   "display_name": "Python 3",
   "language": "python",
   "name": "python3"
  },
  "language_info": {
   "codemirror_mode": {
    "name": "ipython",
    "version": 3
   },
   "file_extension": ".py",
   "mimetype": "text/x-python",
   "name": "python",
   "nbconvert_exporter": "python",
   "pygments_lexer": "ipython3",
   "version": "3.7.3"
  }
 },
 "nbformat": 4,
 "nbformat_minor": 2
}
