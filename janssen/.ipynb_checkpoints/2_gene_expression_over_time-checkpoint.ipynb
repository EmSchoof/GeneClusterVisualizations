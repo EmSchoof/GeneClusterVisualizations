{
 "cells": [
  {
   "cell_type": "markdown",
   "metadata": {},
   "source": [
    "## Gene Expression Over Specific Time Frames"
   ]
  },
  {
   "cell_type": "code",
   "execution_count": 1,
   "metadata": {},
   "outputs": [],
   "source": [
    "# Import necessary modules\n",
    "import csv\n",
    "import numpy as np\n",
    "import pandas as pd\n",
    "from pandas import DataFrame"
   ]
  },
  {
   "cell_type": "code",
   "execution_count": 2,
   "metadata": {},
   "outputs": [
    {
     "name": "stdout",
     "output_type": "stream",
     "text": [
      "(95, 9)\n",
      "Each row in the annotation dataframe represents a sample from a specific patient at a specific time point.\n",
      "Genes are clustered into four clusters [M.1, M.2, M.3, M.4], and the columns are the mean value of those clusters\n"
     ]
    },
    {
     "data": {
      "text/html": [
       "<div>\n",
       "<style scoped>\n",
       "    .dataframe tbody tr th:only-of-type {\n",
       "        vertical-align: middle;\n",
       "    }\n",
       "\n",
       "    .dataframe tbody tr th {\n",
       "        vertical-align: top;\n",
       "    }\n",
       "\n",
       "    .dataframe thead th {\n",
       "        text-align: right;\n",
       "    }\n",
       "</style>\n",
       "<table border=\"1\" class=\"dataframe\">\n",
       "  <thead>\n",
       "    <tr style=\"text-align: right;\">\n",
       "      <th></th>\n",
       "      <th>Gender</th>\n",
       "      <th>Age</th>\n",
       "      <th>Height.cm</th>\n",
       "      <th>Weight.kg</th>\n",
       "      <th>M.1</th>\n",
       "      <th>M.2</th>\n",
       "      <th>M.3</th>\n",
       "      <th>M.4</th>\n",
       "      <th>time</th>\n",
       "    </tr>\n",
       "  </thead>\n",
       "  <tbody>\n",
       "    <tr>\n",
       "      <th>1</th>\n",
       "      <td>Female</td>\n",
       "      <td>46.65</td>\n",
       "      <td>NaN</td>\n",
       "      <td>NaN</td>\n",
       "      <td>-2.981974</td>\n",
       "      <td>1.409330</td>\n",
       "      <td>-0.217659</td>\n",
       "      <td>1.772206</td>\n",
       "      <td>9</td>\n",
       "    </tr>\n",
       "    <tr>\n",
       "      <th>2</th>\n",
       "      <td>Female</td>\n",
       "      <td>30.33</td>\n",
       "      <td>NaN</td>\n",
       "      <td>NaN</td>\n",
       "      <td>-2.600316</td>\n",
       "      <td>1.359622</td>\n",
       "      <td>0.023615</td>\n",
       "      <td>1.944382</td>\n",
       "      <td>9</td>\n",
       "    </tr>\n",
       "    <tr>\n",
       "      <th>3</th>\n",
       "      <td>Female</td>\n",
       "      <td>83.81</td>\n",
       "      <td>149.3</td>\n",
       "      <td>47.6</td>\n",
       "      <td>-2.740580</td>\n",
       "      <td>1.506242</td>\n",
       "      <td>0.162396</td>\n",
       "      <td>2.574374</td>\n",
       "      <td>2</td>\n",
       "    </tr>\n",
       "    <tr>\n",
       "      <th>4</th>\n",
       "      <td>Female</td>\n",
       "      <td>43.13</td>\n",
       "      <td>168</td>\n",
       "      <td>61.2</td>\n",
       "      <td>-2.113714</td>\n",
       "      <td>0.859283</td>\n",
       "      <td>0.506133</td>\n",
       "      <td>2.652673</td>\n",
       "      <td>5</td>\n",
       "    </tr>\n",
       "    <tr>\n",
       "      <th>5</th>\n",
       "      <td>Male</td>\n",
       "      <td>18.13</td>\n",
       "      <td>170.18</td>\n",
       "      <td>86.0</td>\n",
       "      <td>-1.885751</td>\n",
       "      <td>-0.938905</td>\n",
       "      <td>1.797638</td>\n",
       "      <td>6.198975</td>\n",
       "      <td>1</td>\n",
       "    </tr>\n",
       "  </tbody>\n",
       "</table>\n",
       "</div>"
      ],
      "text/plain": [
       "   Gender    Age Height.cm  Weight.kg       M.1       M.2       M.3       M.4  \\\n",
       "1  Female  46.65       NaN        NaN -2.981974  1.409330 -0.217659  1.772206   \n",
       "2  Female  30.33       NaN        NaN -2.600316  1.359622  0.023615  1.944382   \n",
       "3  Female  83.81     149.3       47.6 -2.740580  1.506242  0.162396  2.574374   \n",
       "4  Female  43.13       168       61.2 -2.113714  0.859283  0.506133  2.652673   \n",
       "5    Male  18.13    170.18       86.0 -1.885751 -0.938905  1.797638  6.198975   \n",
       "\n",
       "   time  \n",
       "1     9  \n",
       "2     9  \n",
       "3     2  \n",
       "4     5  \n",
       "5     1  "
      ]
     },
     "execution_count": 2,
     "metadata": {},
     "output_type": "execute_result"
    }
   ],
   "source": [
    "# Import annotation data\n",
    "annotation_df = pd.read_csv(\"data/JNJ2297.annotation.tsv\", sep=\"\\t\")\n",
    "print(annotation_df.shape)\n",
    "print('Each row in the annotation dataframe represents a sample from a specific patient at a specific time point.')\n",
    "print('Genes are clustered into four clusters [M.1, M.2, M.3, M.4], and the columns are the mean value of those clusters')\n",
    "annotation_df.head()"
   ]
  },
  {
   "cell_type": "markdown",
   "metadata": {},
   "source": [
    "#### Create dataframe of just gene clusters and time"
   ]
  },
  {
   "cell_type": "code",
   "execution_count": 3,
   "metadata": {},
   "outputs": [
    {
     "name": "stdout",
     "output_type": "stream",
     "text": [
      "(380, 3)\n"
     ]
    },
    {
     "data": {
      "text/html": [
       "<div>\n",
       "<style scoped>\n",
       "    .dataframe tbody tr th:only-of-type {\n",
       "        vertical-align: middle;\n",
       "    }\n",
       "\n",
       "    .dataframe tbody tr th {\n",
       "        vertical-align: top;\n",
       "    }\n",
       "\n",
       "    .dataframe thead th {\n",
       "        text-align: right;\n",
       "    }\n",
       "</style>\n",
       "<table border=\"1\" class=\"dataframe\">\n",
       "  <thead>\n",
       "    <tr style=\"text-align: right;\">\n",
       "      <th></th>\n",
       "      <th>time</th>\n",
       "      <th>gene_cluster</th>\n",
       "      <th>mean_cluster_value</th>\n",
       "    </tr>\n",
       "  </thead>\n",
       "  <tbody>\n",
       "    <tr>\n",
       "      <th>0</th>\n",
       "      <td>9</td>\n",
       "      <td>M.1</td>\n",
       "      <td>-2.981974</td>\n",
       "    </tr>\n",
       "    <tr>\n",
       "      <th>1</th>\n",
       "      <td>9</td>\n",
       "      <td>M.1</td>\n",
       "      <td>-2.600316</td>\n",
       "    </tr>\n",
       "    <tr>\n",
       "      <th>2</th>\n",
       "      <td>2</td>\n",
       "      <td>M.1</td>\n",
       "      <td>-2.740580</td>\n",
       "    </tr>\n",
       "    <tr>\n",
       "      <th>3</th>\n",
       "      <td>5</td>\n",
       "      <td>M.1</td>\n",
       "      <td>-2.113714</td>\n",
       "    </tr>\n",
       "    <tr>\n",
       "      <th>4</th>\n",
       "      <td>1</td>\n",
       "      <td>M.1</td>\n",
       "      <td>-1.885751</td>\n",
       "    </tr>\n",
       "  </tbody>\n",
       "</table>\n",
       "</div>"
      ],
      "text/plain": [
       "   time gene_cluster  mean_cluster_value\n",
       "0     9          M.1           -2.981974\n",
       "1     9          M.1           -2.600316\n",
       "2     2          M.1           -2.740580\n",
       "3     5          M.1           -2.113714\n",
       "4     1          M.1           -1.885751"
      ]
     },
     "execution_count": 3,
     "metadata": {},
     "output_type": "execute_result"
    }
   ],
   "source": [
    "cluster_by_time_df = annotation_df[['M.1', 'M.2', 'M.3', 'M.4', 'time']]\n",
    "cluster_by_time_df = cluster_by_time_df.melt('time', var_name='gene_cluster',  value_name='mean_cluster_value')\n",
    "print(cluster_by_time_df.shape)\n",
    "cluster_by_time_df.head()"
   ]
  },
  {
   "cell_type": "markdown",
   "metadata": {},
   "source": [
    "#### Use K-Means to Group Data by Mean Cluster Values (4 categories: Reduced, Low, Medium, and High Expression)"
   ]
  },
  {
   "cell_type": "code",
   "execution_count": 4,
   "metadata": {},
   "outputs": [],
   "source": [
    "from sklearn.cluster import KMeans"
   ]
  },
  {
   "cell_type": "code",
   "execution_count": 5,
   "metadata": {},
   "outputs": [
    {
     "name": "stdout",
     "output_type": "stream",
     "text": [
      "380\n"
     ]
    },
    {
     "data": {
      "text/plain": [
       "380"
      ]
     },
     "execution_count": 5,
     "metadata": {},
     "output_type": "execute_result"
    }
   ],
   "source": [
    "values = list(cluster_by_time_df['mean_cluster_value'])\n",
    "print(len(values))\n",
    "points = [(x,) for x in values]\n",
    "len(points)"
   ]
  },
  {
   "cell_type": "code",
   "execution_count": 6,
   "metadata": {},
   "outputs": [
    {
     "data": {
      "text/plain": [
       "([[0.6645488835329342],\n",
       "  [4.876978140714285],\n",
       "  [-1.9086897460999996],\n",
       "  [2.421674266470588]],\n",
       " [0.6645488835329342,\n",
       "  4.876978140714285,\n",
       "  -1.9086897460999996,\n",
       "  2.421674266470588],\n",
       " 380)"
      ]
     },
     "execution_count": 6,
     "metadata": {},
     "output_type": "execute_result"
    }
   ],
   "source": [
    "kmeans = KMeans(n_clusters=4, random_state=42).fit(points)\n",
    "ranges = kmeans.cluster_centers_.tolist()\n",
    "flattened_ranges = [val for sublist in ranges for val in sublist]\n",
    "ranges, flattened_ranges, len(kmeans.labels_)"
   ]
  },
  {
   "cell_type": "code",
   "execution_count": 7,
   "metadata": {},
   "outputs": [
    {
     "name": "stdout",
     "output_type": "stream",
     "text": [
      "(380, 2)\n"
     ]
    },
    {
     "data": {
      "text/html": [
       "<div>\n",
       "<style scoped>\n",
       "    .dataframe tbody tr th:only-of-type {\n",
       "        vertical-align: middle;\n",
       "    }\n",
       "\n",
       "    .dataframe tbody tr th {\n",
       "        vertical-align: top;\n",
       "    }\n",
       "\n",
       "    .dataframe thead th {\n",
       "        text-align: right;\n",
       "    }\n",
       "</style>\n",
       "<table border=\"1\" class=\"dataframe\">\n",
       "  <thead>\n",
       "    <tr style=\"text-align: right;\">\n",
       "      <th></th>\n",
       "      <th>data_values</th>\n",
       "      <th>cluster</th>\n",
       "    </tr>\n",
       "  </thead>\n",
       "  <tbody>\n",
       "    <tr>\n",
       "      <th>0</th>\n",
       "      <td>-2.981974</td>\n",
       "      <td>2</td>\n",
       "    </tr>\n",
       "    <tr>\n",
       "      <th>1</th>\n",
       "      <td>-2.600316</td>\n",
       "      <td>2</td>\n",
       "    </tr>\n",
       "    <tr>\n",
       "      <th>2</th>\n",
       "      <td>-2.740580</td>\n",
       "      <td>2</td>\n",
       "    </tr>\n",
       "    <tr>\n",
       "      <th>3</th>\n",
       "      <td>-2.113714</td>\n",
       "      <td>2</td>\n",
       "    </tr>\n",
       "    <tr>\n",
       "      <th>4</th>\n",
       "      <td>-1.885751</td>\n",
       "      <td>2</td>\n",
       "    </tr>\n",
       "  </tbody>\n",
       "</table>\n",
       "</div>"
      ],
      "text/plain": [
       "   data_values  cluster\n",
       "0    -2.981974        2\n",
       "1    -2.600316        2\n",
       "2    -2.740580        2\n",
       "3    -2.113714        2\n",
       "4    -1.885751        2"
      ]
     },
     "execution_count": 7,
     "metadata": {},
     "output_type": "execute_result"
    }
   ],
   "source": [
    "# Create cluster map\n",
    "cluster_map = pd.DataFrame()\n",
    "cluster_map['data_values'] = values\n",
    "cluster_map['cluster'] = kmeans.labels_  \n",
    "print(cluster_map.shape)\n",
    "cluster_map.head()"
   ]
  },
  {
   "cell_type": "code",
   "execution_count": 8,
   "metadata": {},
   "outputs": [
    {
     "name": "stdout",
     "output_type": "stream",
     "text": [
      "167 data_values    1.523842\n",
      "cluster        0.000000\n",
      "dtype: float64\n",
      "28 data_values    7.351665\n",
      "cluster        1.000000\n",
      "dtype: float64\n",
      "100 data_values   -0.691443\n",
      "cluster        2.000000\n",
      "dtype: float64\n",
      "85 data_values    3.600801\n",
      "cluster        3.000000\n",
      "dtype: float64\n"
     ]
    }
   ],
   "source": [
    "print(len(cluster_map.loc[cluster_map['cluster'] == 0]), cluster_map.loc[cluster_map['cluster'] == 0].max())\n",
    "print(len(cluster_map.loc[cluster_map['cluster'] == 1]), cluster_map.loc[cluster_map['cluster'] == 1].max())\n",
    "print(len(cluster_map.loc[cluster_map['cluster'] == 2]), cluster_map.loc[cluster_map['cluster'] == 2].max())\n",
    "print(len(cluster_map.loc[cluster_map['cluster'] == 3]), cluster_map.loc[cluster_map['cluster'] == 3].max())"
   ]
  },
  {
   "cell_type": "code",
   "execution_count": 9,
   "metadata": {},
   "outputs": [],
   "source": [
    "# Label centers\n",
    "kmeans_centers = []\n",
    "for cluster in cluster_map['cluster']:\n",
    "    \n",
    "    if cluster == 2:\n",
    "        kmeans_centers.append('(-)')\n",
    "        \n",
    "    elif cluster == 0:\n",
    "        kmeans_centers.append('Low (+)')\n",
    "    \n",
    "    elif cluster == 3:\n",
    "        kmeans_centers.append('Medium (+)')\n",
    "    \n",
    "    elif cluster == 1:\n",
    "        kmeans_centers.append('High (+)')"
   ]
  },
  {
   "cell_type": "code",
   "execution_count": 10,
   "metadata": {},
   "outputs": [
    {
     "data": {
      "text/html": [
       "<div>\n",
       "<style scoped>\n",
       "    .dataframe tbody tr th:only-of-type {\n",
       "        vertical-align: middle;\n",
       "    }\n",
       "\n",
       "    .dataframe tbody tr th {\n",
       "        vertical-align: top;\n",
       "    }\n",
       "\n",
       "    .dataframe thead th {\n",
       "        text-align: right;\n",
       "    }\n",
       "</style>\n",
       "<table border=\"1\" class=\"dataframe\">\n",
       "  <thead>\n",
       "    <tr style=\"text-align: right;\">\n",
       "      <th></th>\n",
       "      <th>time</th>\n",
       "      <th>gene_cluster</th>\n",
       "      <th>mean_cluster_value</th>\n",
       "      <th>Gene Expression Value</th>\n",
       "    </tr>\n",
       "  </thead>\n",
       "  <tbody>\n",
       "    <tr>\n",
       "      <th>375</th>\n",
       "      <td>9</td>\n",
       "      <td>M.4</td>\n",
       "      <td>2.347195</td>\n",
       "      <td>Medium (+)</td>\n",
       "    </tr>\n",
       "    <tr>\n",
       "      <th>376</th>\n",
       "      <td>9</td>\n",
       "      <td>M.4</td>\n",
       "      <td>1.339848</td>\n",
       "      <td>Low (+)</td>\n",
       "    </tr>\n",
       "    <tr>\n",
       "      <th>377</th>\n",
       "      <td>1</td>\n",
       "      <td>M.4</td>\n",
       "      <td>2.461429</td>\n",
       "      <td>Medium (+)</td>\n",
       "    </tr>\n",
       "    <tr>\n",
       "      <th>378</th>\n",
       "      <td>9</td>\n",
       "      <td>M.4</td>\n",
       "      <td>3.427726</td>\n",
       "      <td>Medium (+)</td>\n",
       "    </tr>\n",
       "    <tr>\n",
       "      <th>379</th>\n",
       "      <td>9</td>\n",
       "      <td>M.4</td>\n",
       "      <td>2.459665</td>\n",
       "      <td>Medium (+)</td>\n",
       "    </tr>\n",
       "  </tbody>\n",
       "</table>\n",
       "</div>"
      ],
      "text/plain": [
       "     time gene_cluster  mean_cluster_value Gene Expression Value\n",
       "375     9          M.4            2.347195            Medium (+)\n",
       "376     9          M.4            1.339848               Low (+)\n",
       "377     1          M.4            2.461429            Medium (+)\n",
       "378     9          M.4            3.427726            Medium (+)\n",
       "379     9          M.4            2.459665            Medium (+)"
      ]
     },
     "execution_count": 10,
     "metadata": {},
     "output_type": "execute_result"
    }
   ],
   "source": [
    "# Add centers to cluster_by_time_df\n",
    "cluster_by_time_df['Gene Expression Value'] = pd.Series(kmeans_centers, index=np.arange(0, 380))\n",
    "cluster_by_time_df.tail()"
   ]
  },
  {
   "cell_type": "code",
   "execution_count": 11,
   "metadata": {},
   "outputs": [
    {
     "data": {
      "text/html": [
       "<div>\n",
       "<style scoped>\n",
       "    .dataframe tbody tr th:only-of-type {\n",
       "        vertical-align: middle;\n",
       "    }\n",
       "\n",
       "    .dataframe tbody tr th {\n",
       "        vertical-align: top;\n",
       "    }\n",
       "\n",
       "    .dataframe thead th {\n",
       "        text-align: right;\n",
       "    }\n",
       "</style>\n",
       "<table border=\"1\" class=\"dataframe\">\n",
       "  <thead>\n",
       "    <tr style=\"text-align: right;\">\n",
       "      <th></th>\n",
       "      <th>time</th>\n",
       "      <th>gene_cluster</th>\n",
       "      <th>mean_cluster_value</th>\n",
       "      <th>Gene Expression Value</th>\n",
       "    </tr>\n",
       "  </thead>\n",
       "  <tbody>\n",
       "    <tr>\n",
       "      <th>0</th>\n",
       "      <td>9</td>\n",
       "      <td>M.1</td>\n",
       "      <td>-2.981974</td>\n",
       "      <td>(-)</td>\n",
       "    </tr>\n",
       "    <tr>\n",
       "      <th>1</th>\n",
       "      <td>9</td>\n",
       "      <td>M.1</td>\n",
       "      <td>-2.600316</td>\n",
       "      <td>(-)</td>\n",
       "    </tr>\n",
       "    <tr>\n",
       "      <th>2</th>\n",
       "      <td>2</td>\n",
       "      <td>M.1</td>\n",
       "      <td>-2.740580</td>\n",
       "      <td>(-)</td>\n",
       "    </tr>\n",
       "    <tr>\n",
       "      <th>3</th>\n",
       "      <td>5</td>\n",
       "      <td>M.1</td>\n",
       "      <td>-2.113714</td>\n",
       "      <td>(-)</td>\n",
       "    </tr>\n",
       "    <tr>\n",
       "      <th>4</th>\n",
       "      <td>1</td>\n",
       "      <td>M.1</td>\n",
       "      <td>-1.885751</td>\n",
       "      <td>(-)</td>\n",
       "    </tr>\n",
       "  </tbody>\n",
       "</table>\n",
       "</div>"
      ],
      "text/plain": [
       "   time gene_cluster  mean_cluster_value Gene Expression Value\n",
       "0     9          M.1           -2.981974                   (-)\n",
       "1     9          M.1           -2.600316                   (-)\n",
       "2     2          M.1           -2.740580                   (-)\n",
       "3     5          M.1           -2.113714                   (-)\n",
       "4     1          M.1           -1.885751                   (-)"
      ]
     },
     "execution_count": 11,
     "metadata": {},
     "output_type": "execute_result"
    }
   ],
   "source": [
    "cluster_by_time_df.head()"
   ]
  },
  {
   "cell_type": "code",
   "execution_count": 114,
   "metadata": {},
   "outputs": [
    {
     "data": {
      "text/html": [
       "<div>\n",
       "<style scoped>\n",
       "    .dataframe tbody tr th:only-of-type {\n",
       "        vertical-align: middle;\n",
       "    }\n",
       "\n",
       "    .dataframe tbody tr th {\n",
       "        vertical-align: top;\n",
       "    }\n",
       "\n",
       "    .dataframe thead th {\n",
       "        text-align: right;\n",
       "    }\n",
       "</style>\n",
       "<table border=\"1\" class=\"dataframe\">\n",
       "  <thead>\n",
       "    <tr style=\"text-align: right;\">\n",
       "      <th></th>\n",
       "      <th>time</th>\n",
       "      <th>gene_cluster</th>\n",
       "      <th>mean_cluster_value</th>\n",
       "      <th>Gene Expression Value</th>\n",
       "    </tr>\n",
       "  </thead>\n",
       "  <tbody>\n",
       "    <tr>\n",
       "      <th>39</th>\n",
       "      <td>4</td>\n",
       "      <td>M.1</td>\n",
       "      <td>2.668524</td>\n",
       "      <td>Medium (+)</td>\n",
       "    </tr>\n",
       "    <tr>\n",
       "      <th>62</th>\n",
       "      <td>4</td>\n",
       "      <td>M.1</td>\n",
       "      <td>-1.251874</td>\n",
       "      <td>(-)</td>\n",
       "    </tr>\n",
       "    <tr>\n",
       "      <th>63</th>\n",
       "      <td>4</td>\n",
       "      <td>M.1</td>\n",
       "      <td>-3.148599</td>\n",
       "      <td>(-)</td>\n",
       "    </tr>\n",
       "  </tbody>\n",
       "</table>\n",
       "</div>"
      ],
      "text/plain": [
       "    time gene_cluster  mean_cluster_value Gene Expression Value\n",
       "39     4          M.1            2.668524            Medium (+)\n",
       "62     4          M.1           -1.251874                   (-)\n",
       "63     4          M.1           -3.148599                   (-)"
      ]
     },
     "execution_count": 114,
     "metadata": {},
     "output_type": "execute_result"
    }
   ],
   "source": [
    "m1 = cluster_by_time_df[cluster_by_time_df.gene_cluster == 'M.1']\n",
    "m1[m1.time == 4]"
   ]
  },
  {
   "cell_type": "markdown",
   "metadata": {},
   "source": [
    "#### Visualize Data"
   ]
  },
  {
   "cell_type": "code",
   "execution_count": 12,
   "metadata": {},
   "outputs": [],
   "source": [
    "import matplotlib.pyplot as plt\n",
    "import seaborn as sns"
   ]
  },
  {
   "cell_type": "code",
   "execution_count": 93,
   "metadata": {},
   "outputs": [
    {
     "data": {
      "image/png": "[encoded data removed]",
      "text/plain": [
       "<Figure size 483.375x360 with 1 Axes>"
      ]
     },
     "metadata": {
      "needs_background": "light"
     },
     "output_type": "display_data"
    }
   ],
   "source": [
    "g = sns.catplot(x='time',\n",
    "                y='gene_cluster',\n",
    "                hue='Gene Expression Value', \n",
    "                data=cluster_by_time_df, \n",
    "                kind='swarm',\n",
    "                palette='BuPu')\n",
    "plt.title('Expression Level of Gene Clusters Over Time \\n Grouped Into Negative, Low, Medium, or High Expression Levels with KMeans \\n', size=14)\n",
    "plt.xlabel('Time Interval', size=14)\n",
    "plt.ylabel('Gene Cluster', size=14)\n",
    "plt.show()"
   ]
  },
  {
   "cell_type": "code",
   "execution_count": 105,
   "metadata": {},
   "outputs": [],
   "source": [
    "def plot_expression_over_time(cluster):\n",
    "\n",
    "    # Select cluster df\n",
    "    cluster_df = cluster_by_time_df.loc[cluster_by_time_df['gene_cluster'] == cluster]\n",
    "    \n",
    "    # Order by gene expression level\n",
    "    cluster_df = cluster_df.sort_values(by=['mean_cluster_value'])\n",
    "    \n",
    "    # Initialize a grid of plots with an Axes for each cluster\n",
    "    grid = sns.FacetGrid(cluster_df,\n",
    "                         col='time', \n",
    "                         row='gene_cluster',\n",
    "                         hue='Gene Expression Value',\n",
    "                         palette='BuPu')\n",
    "\n",
    "    # Draw a line plot to show the trajectory of each cluster\n",
    "    grid = (grid.map(plt.hist, 'mean_cluster_value')).add_legend()\n",
    "\n",
    "    plt.show()"
   ]
  },
  {
   "cell_type": "code",
   "execution_count": 106,
   "metadata": {},
   "outputs": [
    {
     "data": {
      "image/png": "[encoded data removed]",
      "text/plain": [
       "<Figure size 2067.38x216 with 9 Axes>"
      ]
     },
     "metadata": {
      "needs_background": "light"
     },
     "output_type": "display_data"
    }
   ],
   "source": [
    "plot_expression_over_time('M.1')"
   ]
  },
  {
   "cell_type": "code",
   "execution_count": 107,
   "metadata": {},
   "outputs": [
    {
     "data": {
      "image/png": "[encoded data removed]",
      "text/plain": [
       "<Figure size 2067.38x216 with 9 Axes>"
      ]
     },
     "metadata": {
      "needs_background": "light"
     },
     "output_type": "display_data"
    }
   ],
   "source": [
    "plot_expression_over_time('M.2')"
   ]
  },
  {
   "cell_type": "code",
   "execution_count": 108,
   "metadata": {},
   "outputs": [
    {
     "data": {
      "image/png": "[encoded data removed]",
      "text/plain": [
       "<Figure size 2067.38x216 with 9 Axes>"
      ]
     },
     "metadata": {
      "needs_background": "light"
     },
     "output_type": "display_data"
    }
   ],
   "source": [
    "plot_expression_over_time('M.3')"
   ]
  },
  {
   "cell_type": "code",
   "execution_count": 109,
   "metadata": {},
   "outputs": [
    {
     "data": {
      "image/png": "[encoded data removed]",
      "text/plain": [
       "<Figure size 2067.38x216 with 9 Axes>"
      ]
     },
     "metadata": {
      "needs_background": "light"
     },
     "output_type": "display_data"
    }
   ],
   "source": [
    "plot_expression_over_time('M.4')"
   ]
  },
  {
   "cell_type": "code",
   "execution_count": 53,
   "metadata": {},
   "outputs": [],
   "source": [
    "# M.1\n",
    "m1 = cluster_by_time_df.loc[cluster_by_time_df['gene_cluster'] == 'M.1']\n",
    "m1 = m1[['time', 'mean_cluster_value']].groupby(by=['time'], as_index=False).mean()\n",
    "\n",
    "# M.2\n",
    "m2 = cluster_by_time_df.loc[cluster_by_time_df['gene_cluster'] == 'M.2']\n",
    "m2 = m2[['time', 'mean_cluster_value']].groupby(by=['time'], as_index=False).mean()\n",
    "\n",
    "# M.3\n",
    "m3 = cluster_by_time_df.loc[cluster_by_time_df['gene_cluster'] == 'M.3']\n",
    "m3 = m3[['time', 'mean_cluster_value']].groupby(by=['time'], as_index=False).mean()\n",
    "\n",
    "#M.4\n",
    "m4 = cluster_by_time_df.loc[cluster_by_time_df['gene_cluster'] == 'M.4']\n",
    "m4 = m4[['time', 'mean_cluster_value']].groupby(by=['time'], as_index=False).mean()"
   ]
  },
  {
   "cell_type": "code",
   "execution_count": 88,
   "metadata": {},
   "outputs": [
    {
     "data": {
      "image/png": "[encoded data removed]",
      "text/plain": [
       "<Figure size 720x720 with 4 Axes>"
      ]
     },
     "metadata": {
      "needs_background": "light"
     },
     "output_type": "display_data"
    }
   ],
   "source": [
    "fig, ax = plt.subplots(2, 2, sharex=True, sharey=True, figsize=(10,10))\n",
    "\n",
    "# M.1\n",
    "ax[0, 0].plot(m1['time'].values, m1['mean_cluster_value'].values, color='r')\n",
    "ax[0, 0].set_title('M.1')\n",
    "ax[0, 0].grid(True)\n",
    "\n",
    "# M.2\n",
    "ax[1, 0].plot(m2['time'].values, m2['mean_cluster_value'].values, color='b')\n",
    "ax[1, 0].set_title('M.2')\n",
    "ax[1, 0].grid(True)\n",
    "\n",
    "# M.3\n",
    "ax[0, 1].plot(m3['time'].values, m3['mean_cluster_value'].values, color='g')\n",
    "ax[0, 1].set_title('M.3')\n",
    "ax[0, 1].grid(True)\n",
    "\n",
    "# M.4\n",
    "ax[1, 1].plot(m4['time'].values, m4['mean_cluster_value'].values, color='k')\n",
    "ax[1, 1].set_title('M.4')\n",
    "ax[1, 1].grid(True)\n",
    "\n",
    "# Label plots\n",
    "fig.text(0.5, 1, 'Mean of Cluster Mean Cluster Values Over 9 Time Intervals', ha='center', fontsize=15) # x-axis\n",
    "fig.text(0.5, 0.04, 'Time Interval', ha='center', fontsize=15) # x-axis\n",
    "fig.text(0.04, 0.5, 'Mean Cluster Value \\n from Responders', va='center', rotation='vertical', fontsize=15) # y-axis\n",
    "\n",
    "plt.show()"
   ]
  }
 ],
 "metadata": {
  "kernelspec": {
   "display_name": "Python 3",
   "language": "python",
   "name": "python3"
  },
  "language_info": {
   "codemirror_mode": {
    "name": "ipython",
    "version": 3
   },
   "file_extension": ".py",
   "mimetype": "text/x-python",
   "name": "python",
   "nbconvert_exporter": "python",
   "pygments_lexer": "ipython3",
   "version": "3.7.3"
  }
 },
 "nbformat": 4,
 "nbformat_minor": 2
}
